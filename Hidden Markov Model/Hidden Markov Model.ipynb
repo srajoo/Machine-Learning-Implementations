{
 "cells": [
  {
   "cell_type": "code",
   "execution_count": null,
   "metadata": {
    "id": "EbJOpTV1wfxP"
   },
   "outputs": [],
   "source": [
    "import numpy as np\n",
    "from typing import List, Optional, Tuple"
   ]
  },
  {
   "cell_type": "markdown",
   "metadata": {
    "id": "2vUl61YHw23h"
   },
   "source": [
    "## Viterbi algorithm with step function"
   ]
  },
  {
   "cell_type": "code",
   "execution_count": null,
   "metadata": {
    "id": "fId2m8qQsOqr",
    "tags": []
   },
   "outputs": [],
   "source": [
    "def step(mu_prev: np.ndarray,\n",
    "         emission_probs: np.ndarray,\n",
    "         transition_probs: np.ndarray,\n",
    "         observed_state: int) -> Tuple[np.ndarray, np.ndarray]:\n",
    "    \"\"\"Runs one step of the Viterbi algorithm.\n",
    "    \n",
    "    Args:\n",
    "        mu_prev: probability distribution with shape (num_hidden),\n",
    "            the previous mu\n",
    "        emission_probs: the emission probability matrix (num_hidden,\n",
    "            num_observed)\n",
    "        transition_probs: the transition probability matrix, with\n",
    "            shape (num_hidden, num_hidden)\n",
    "        observed_state: the observed state at the current step\n",
    "    \n",
    "    Returns:\n",
    "        - the mu for the next step\n",
    "        - the maximizing previous state, before the current state,\n",
    "          as an int array with shape (num_hidden)\n",
    "    \"\"\"\n",
    "    \n",
    "    pre_max = mu_prev * transition_probs.T\n",
    "    max_prev_states = np.argmax(pre_max, axis=1)\n",
    "    max_vals = pre_max[np.arange(len(max_prev_states)), max_prev_states]\n",
    "    mu_new = max_vals * emission_probs[:, observed_state]\n",
    "    \n",
    "    return mu_new, max_prev_states\n",
    "\n",
    "\n",
    "def viterbi(emission_probs: np.ndarray,\n",
    "            transition_probs: np.ndarray,\n",
    "            start_probs: np.ndarray,\n",
    "            observed_states: List[int]) -> Tuple[List[int], float]:\n",
    "    \"\"\"Runs the Viterbi algorithm to get the most likely state sequence.\n",
    "    \n",
    "    Args:\n",
    "        emission_probs: the emission probability matrix (num_hidden,\n",
    "            num_observed)\n",
    "        transition_probs: the transition probability matrix, with\n",
    "            shape (num_hidden, num_hidden)\n",
    "        start_probs: the initial probabilies for each state, with shape\n",
    "            (num_hidden)\n",
    "        observed_states: the observed states at each step\n",
    "    \n",
    "    Returns:\n",
    "        - the most likely series of states\n",
    "        - the joint probability of that series of states and the observed\n",
    "    \"\"\"\n",
    "    \n",
    "    # Runs the forward pass, storing the most likely previous state.\n",
    "    mu = start_probs * emission_probs[:, observed_states[0]]\n",
    "    all_prev_states = []\n",
    "    for observed_state in observed_states[1:]:\n",
    "        mu, prevs = step(mu, emission_probs, transition_probs, observed_state)\n",
    "        all_prev_states.append(prevs)\n",
    "    \n",
    "    # Traces backwards to get the maximum likelihood sequence.\n",
    "    state = np.argmax(mu)\n",
    "    sequence_prob = mu[state]\n",
    "    state_sequence = [state]\n",
    "    for prev_states in all_prev_states[::-1]:\n",
    "        state = prev_states[state]\n",
    "        state_sequence.append(state)\n",
    "    \n",
    "    return state_sequence[::-1], sequence_prob"
   ]
  },
  {
   "cell_type": "markdown",
   "metadata": {
    "id": "6IdKjayjw9u4"
   },
   "source": [
    "## Inputs and Output"
   ]
  },
  {
   "cell_type": "code",
   "execution_count": null,
   "metadata": {
    "colab": {
     "base_uri": "https://localhost:8080/"
    },
    "id": "woT-RCv8sNbi",
    "outputId": "ca04e57c-aad3-4997-fdc6-0a57a36a5edc"
   },
   "outputs": [
    {
     "name": "stdout",
     "output_type": "stream",
     "text": [
      "Most likely sequence: [7, 6, 5, 6, 5, 4, 5, 6, 7, 8]\n",
      "Sequence Probability: 3.3076343375840383e-09\n"
     ]
    }
   ],
   "source": [
    "num_hidden_states = 10\n",
    "num_observed_states = 10\n",
    "num_time_steps = 10\n",
    "\n",
    "transition_probs = np.array([[0,1,0,0,0,0,0,0,0,0],[0.5,0,0.5,0,0,0,0,0,0,0],[0,0.5,0,0.5,0,0,0,0,0,0],[0,0,0.5,0,0.5,0,0,0,0,0],[0,0,0,0.5,0,0.5,0,0,0,0],[0,0,0,0,0.5,0,0.5,0,0,0],[0,0,0,0,0,0.5,0,0.5,0,0],[0,0,0,0,0,0,0.5,0,0.5,0],[0,0,0,0,0,0,0,0.5,0,0.5],[0,0,0,0,0,0,0,0,1,0],])\n",
    "\n",
    "emission_probs = np.array([[0.5,0.5,0,0,0,0,0,0,0,0],[1/3,1/3,1/3,0,0,0,0,0,0,0],[0,1/3,1/3,1/3,0,0,0,0,0,0],[0,0,1/3,1/3,1/3,0,0,0,0,0],[0,0,0,1/3,1/3,1/3,0,0,0,0],[0,0,0,0,1/3,1/3,1/3,0,0,0],[0,0,0,0,0,1/3,1/3,1/3,0,0],[0,0,0,0,0,0,1/3,1/3,1/3,0],[0,0,0,0,0,0,0,1/3,1/3,1/3],[0,0,0,0,0,0,0,0,0.5,0.5]])\n",
    "\n",
    "init_hidden_probs = np.array([0.1]*10)\n",
    "\n",
    "observed_states = [8, 6, 4, 6, 5, 4, 5, 5, 7, 9]\n",
    " \n",
    "assert transition_probs.shape == (num_hidden_states, num_hidden_states)\n",
    "assert transition_probs.sum(1).mean() == 1\n",
    "\n",
    "assert emission_probs.shape == (num_hidden_states, num_observed_states)\n",
    "assert emission_probs.sum(1).mean()\n",
    "\n",
    "# Initalizes the initial hidden probabilities.\n",
    "init_hidden_probs = np.array([0.1, 0.3, 0.6])\n",
    "assert init_hidden_probs.shape == (num_hidden_states,)\n",
    "\n",
    "assert len(observed_states) == num_time_steps\n",
    "\n",
    "# Placeholder defining how we'll call the Viterbi algorithm.\n",
    "max_seq, seq_prob = viterbi(\n",
    "    emission_probs,\n",
    "    transition_probs,\n",
    "    init_hidden_probs,\n",
    "    observed_states,\n",
    ")\n",
    "# max_seq: [2, 0, 2, 0]"
   ]
  },
  {
   "cell_type": "code",
   "execution_count": null,
   "metadata": {
    "id": "6s-FwDKksXcg"
   },
   "outputs": [],
   "source": []
  }
 ],
 "metadata": {
  "colab": {
   "collapsed_sections": [],
   "name": "552_hw7.ipynb",
   "provenance": []
  },
  "kernelspec": {
   "display_name": "Python 3",
   "language": "python",
   "name": "python3"
  },
  "language_info": {
   "codemirror_mode": {
    "name": "ipython",
    "version": 3
   },
   "file_extension": ".py",
   "mimetype": "text/x-python",
   "name": "python",
   "nbconvert_exporter": "python",
   "pygments_lexer": "ipython3",
   "version": "3.8.8"
  }
 },
 "nbformat": 4,
 "nbformat_minor": 4
}
