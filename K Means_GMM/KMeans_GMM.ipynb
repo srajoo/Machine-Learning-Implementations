{
 "cells": [
  {
   "cell_type": "code",
   "execution_count": 111,
   "id": "6ffd37f6-cd95-4f73-b570-e484e8a8a1b2",
   "metadata": {},
   "outputs": [],
   "source": [
    "#Implementing K-Means Algorithm and Expectation Maximization using GMM\n",
    "#Group Member: Sandra Elizabeth Rajoo   USC ID: 5477806497"
   ]
  },
  {
   "cell_type": "code",
   "execution_count": 29,
   "id": "cf4b15e7-3f70-4802-bf51-72c02aa48b49",
   "metadata": {},
   "outputs": [],
   "source": [
    "import pandas as pd\n",
    "import numpy as np"
   ]
  },
  {
   "cell_type": "code",
   "execution_count": 30,
   "id": "0c17e38a-11da-43c4-9948-4f8d60d1860b",
   "metadata": {},
   "outputs": [],
   "source": [
    "df = pd.read_csv(\"clusters.txt\", names = ['x', 'y'])"
   ]
  },
  {
   "cell_type": "code",
   "execution_count": 31,
   "id": "7964e6a7-5b7b-4c8c-b2ef-77af187de62f",
   "metadata": {},
   "outputs": [
    {
     "name": "stdout",
     "output_type": "stream",
     "text": [
      "<class 'pandas.core.frame.DataFrame'>\n",
      "RangeIndex: 150 entries, 0 to 149\n",
      "Data columns (total 2 columns):\n",
      " #   Column  Non-Null Count  Dtype  \n",
      "---  ------  --------------  -----  \n",
      " 0   x       150 non-null    float64\n",
      " 1   y       150 non-null    float64\n",
      "dtypes: float64(2)\n",
      "memory usage: 2.5 KB\n"
     ]
    }
   ],
   "source": [
    "df.info()"
   ]
  },
  {
   "cell_type": "code",
   "execution_count": 32,
   "id": "2fa578f7-e53f-467e-914c-b0ba437d9802",
   "metadata": {},
   "outputs": [],
   "source": [
    "#K-Means"
   ]
  },
  {
   "cell_type": "code",
   "execution_count": 33,
   "id": "43756955-6043-42c1-97a8-bd7946499886",
   "metadata": {},
   "outputs": [],
   "source": [
    "def kmeans(df, k):\n",
    "    iterate = 1\n",
    "    clusters = np.zeros(df.shape[0])\n",
    "    centroids = df.sample(n = k).values\n",
    "    while iterate:\n",
    "        for idx in range(len(df)):\n",
    "            point = (df.loc[idx, \"x\"], df.loc[idx, \"y\"])\n",
    "            min_dist = float('inf')\n",
    "            for idx_, centroid in enumerate(centroids):\n",
    "                dist = np.sqrt((centroid[0] - float(point[0])) ** 2 + (centroid[1] - float(point[1])) ** 2)\n",
    "                if min_dist > dist:\n",
    "                    min_dist = dist\n",
    "                    clusters[idx] = idx_\n",
    "        new_centroids = pd.DataFrame(df).groupby(by = clusters).mean().values\n",
    "        if np.count_nonzero(centroids - new_centroids) == 0:\n",
    "            iterate = 0\n",
    "        else:\n",
    "            centroids = new_centroids\n",
    "    return centroids, clusters"
   ]
  },
  {
   "cell_type": "code",
   "execution_count": 34,
   "id": "dba200b4-6419-4918-a084-90b93522dd71",
   "metadata": {},
   "outputs": [],
   "source": [
    "centroids, clusters = kmeans(df, 3)"
   ]
  },
  {
   "cell_type": "code",
   "execution_count": 35,
   "id": "09261964-104f-4d31-9952-99b4d2f4ce50",
   "metadata": {},
   "outputs": [
    {
     "data": {
      "text/plain": [
       "array([[-1.0393701 , -1.23803927],\n",
       "       [ 5.17290392,  4.13591368],\n",
       "       [ 0.49711036,  1.26696375]])"
      ]
     },
     "execution_count": 35,
     "metadata": {},
     "output_type": "execute_result"
    }
   ],
   "source": [
    "centroids"
   ]
  },
  {
   "cell_type": "code",
   "execution_count": 36,
   "id": "bd35481f-dae2-442b-9b55-4fce18e1c278",
   "metadata": {},
   "outputs": [],
   "source": [
    "#Expectation Maximization using GMM"
   ]
  },
  {
   "cell_type": "code",
   "execution_count": 37,
   "id": "beceaf39-1512-4cda-a003-f05f34855b60",
   "metadata": {},
   "outputs": [],
   "source": [
    "from scipy.stats import multivariate_normal\n",
    "class GMM:\n",
    "    def __init__(self, k, max_iters = 100):\n",
    "        self.k = k\n",
    "        self.max_iters = max_iters\n",
    "    \n",
    "    def initialize(self, X):\n",
    "        self.shape = X.shape\n",
    "        self.n, self.m = X.shape\n",
    "        self.phi = np.full(shape = self.k, fill_value = 1 / self.k)\n",
    "        self.weights = np.random.uniform(low = 0, high = 1, size = self.shape)  \n",
    "        \n",
    "        rand_row = np.random.randint(low = 0, high = self.n, size = self.k)\n",
    "        self.mu = [X[idx, :] for idx in rand_row]\n",
    "        self.sigma = [np.cov(X.T) for _ in range(self.k)]\n",
    "        self.amplitude = np.zeros(self.k)\n",
    "        \n",
    "    def e_step(self, X):\n",
    "        self.weights = self.predict_probability(X)\n",
    "        self.phi = self.weights.mean(axis=0)\n",
    "    \n",
    "    def m_step(self, X):\n",
    "        for i in range(self.k):\n",
    "            weight = self.weights[:, [i]]\n",
    "            total_weight = weight.sum()\n",
    "            self.mu[i] = (X * weight).sum(axis=0) / total_weight\n",
    "            self.sigma[i] = np.cov(X.T, aweights = (weight / total_weight).flatten(), bias=True)\n",
    "    \n",
    "    def fit(self, X):\n",
    "        self.initialize(X)\n",
    "        for iteration in range(self.max_iters):\n",
    "            self.e_step(X)\n",
    "            self.m_step(X)\n",
    "        \n",
    "        return self.mu, self.sigma, self.amplitude\n",
    "    \n",
    "    def multivariate_normal(self, X, mu, sigma):\n",
    "        denom = (((2 * np.pi) ** len(X)) * np.linalg.det(sigma)) ** (-1/2)\n",
    "        exp_power = -np.dot(np.dot((X - mu), np.linalg.inv(sigma)), (X - mu)) / 2\n",
    "        numerator = np.exp(exp_power)\n",
    "        \n",
    "        return numerator / denom\n",
    "#         return (2*np.pi)**(-len(X)/2)*np.linalg.det(sigma)**(-1/2)*np.exp(-np.dot(np.dot((X-mu).T, np.linalg.inv(sigma)), (X-mu))/2)\n",
    "    \n",
    "    def predict_probability(self, X):\n",
    "        likelihood = np.zeros((self.n, self.k))\n",
    "        for i in range(self.k):\n",
    "            distribution = multivariate_normal(mean = self.mu[i], cov = self.sigma[i])\n",
    "            likelihood[:,i] = distribution.pdf(X)\n",
    "        self.amplitude = np.sum(likelihood, axis = 0) / self.n\n",
    "        numerator = likelihood * self.phi\n",
    "        denominator = numerator.sum(axis=1)[:, np.newaxis]\n",
    "        weights = numerator / denominator\n",
    "        return weights\n",
    "    \n",
    "    def predict(self, X):\n",
    "        weights = self.predict_proba(X)\n",
    "        return np.argmax(weights, axis = 1)\n"
   ]
  },
  {
   "cell_type": "code",
   "execution_count": 38,
   "id": "1d69e961-9597-43b5-ac3d-3aa976d33e38",
   "metadata": {},
   "outputs": [],
   "source": [
    "gmm = GMM(k = 3)\n",
    "mean, variance, amplitude = gmm.fit(df.values)"
   ]
  },
  {
   "cell_type": "code",
   "execution_count": 39,
   "id": "43c3255b-c4e6-4f52-8dac-3b2083af7cbf",
   "metadata": {},
   "outputs": [
    {
     "name": "stdout",
     "output_type": "stream",
     "text": [
      "Mean: \n",
      "[array([-1.38120342,  1.02034656]), array([-0.80902014, -1.15902515]), array([4.43734878, 3.34597868])]\n",
      "Variance: \n",
      "[array([[1.49678059, 0.70856961],\n",
      "       [0.70856961, 2.19351501]]), array([[1.01699997, 0.13185861],\n",
      "       [0.13185861, 0.98843776]]), array([[3.4856666 , 2.31767455],\n",
      "       [2.31767455, 5.18150075]])]\n",
      "Amplitude: \n",
      "[0.01679727 0.03728992 0.01016129]\n"
     ]
    }
   ],
   "source": [
    "print(\"Mean: \")\n",
    "print(mean)\n",
    "print(\"Variance: \")\n",
    "print(variance)\n",
    "print(\"Amplitude: \")\n",
    "print(amplitude)"
   ]
  },
  {
   "cell_type": "code",
   "execution_count": null,
   "id": "34e01139-4c5f-4001-96df-19c43b43ffa3",
   "metadata": {},
   "outputs": [],
   "source": []
  }
 ],
 "metadata": {
  "kernelspec": {
   "display_name": "Python 3",
   "language": "python",
   "name": "python3"
  },
  "language_info": {
   "codemirror_mode": {
    "name": "ipython",
    "version": 3
   },
   "file_extension": ".py",
   "mimetype": "text/x-python",
   "name": "python",
   "nbconvert_exporter": "python",
   "pygments_lexer": "ipython3",
   "version": "3.8.8"
  }
 },
 "nbformat": 4,
 "nbformat_minor": 5
}
