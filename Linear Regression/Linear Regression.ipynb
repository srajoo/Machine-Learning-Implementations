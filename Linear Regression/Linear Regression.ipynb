{
 "cells": [
  {
   "cell_type": "code",
   "execution_count": 1,
   "id": "656828be",
   "metadata": {},
   "outputs": [],
   "source": [
    "import pandas as pd\n",
    "import numpy as np\n",
    "import matplotlib.pyplot as plt\n",
    "from sklearn.model_selection import train_test_split\n",
    "from sklearn.metrics import accuracy_score"
   ]
  },
  {
   "cell_type": "code",
   "execution_count": 2,
   "id": "f1137602",
   "metadata": {},
   "outputs": [],
   "source": [
    "df_classification = pd.read_csv(\"classification.txt\", header = None)"
   ]
  },
  {
   "cell_type": "code",
   "execution_count": 3,
   "id": "c92ed429",
   "metadata": {},
   "outputs": [
    {
     "data": {
      "text/html": [
       "<div>\n",
       "<style scoped>\n",
       "    .dataframe tbody tr th:only-of-type {\n",
       "        vertical-align: middle;\n",
       "    }\n",
       "\n",
       "    .dataframe tbody tr th {\n",
       "        vertical-align: top;\n",
       "    }\n",
       "\n",
       "    .dataframe thead th {\n",
       "        text-align: right;\n",
       "    }\n",
       "</style>\n",
       "<table border=\"1\" class=\"dataframe\">\n",
       "  <thead>\n",
       "    <tr style=\"text-align: right;\">\n",
       "      <th></th>\n",
       "      <th>0</th>\n",
       "      <th>1</th>\n",
       "      <th>2</th>\n",
       "      <th>3</th>\n",
       "      <th>4</th>\n",
       "    </tr>\n",
       "  </thead>\n",
       "  <tbody>\n",
       "    <tr>\n",
       "      <th>0</th>\n",
       "      <td>0.750072</td>\n",
       "      <td>0.977408</td>\n",
       "      <td>0.885658</td>\n",
       "      <td>-1</td>\n",
       "      <td>1</td>\n",
       "    </tr>\n",
       "    <tr>\n",
       "      <th>1</th>\n",
       "      <td>0.877914</td>\n",
       "      <td>0.019251</td>\n",
       "      <td>0.506711</td>\n",
       "      <td>1</td>\n",
       "      <td>-1</td>\n",
       "    </tr>\n",
       "    <tr>\n",
       "      <th>2</th>\n",
       "      <td>0.777325</td>\n",
       "      <td>0.994066</td>\n",
       "      <td>0.822244</td>\n",
       "      <td>-1</td>\n",
       "      <td>1</td>\n",
       "    </tr>\n",
       "    <tr>\n",
       "      <th>3</th>\n",
       "      <td>0.181158</td>\n",
       "      <td>0.460749</td>\n",
       "      <td>0.525477</td>\n",
       "      <td>-1</td>\n",
       "      <td>1</td>\n",
       "    </tr>\n",
       "    <tr>\n",
       "      <th>4</th>\n",
       "      <td>0.114564</td>\n",
       "      <td>0.067555</td>\n",
       "      <td>0.128920</td>\n",
       "      <td>-1</td>\n",
       "      <td>1</td>\n",
       "    </tr>\n",
       "  </tbody>\n",
       "</table>\n",
       "</div>"
      ],
      "text/plain": [
       "          0         1         2  3  4\n",
       "0  0.750072  0.977408  0.885658 -1  1\n",
       "1  0.877914  0.019251  0.506711  1 -1\n",
       "2  0.777325  0.994066  0.822244 -1  1\n",
       "3  0.181158  0.460749  0.525477 -1  1\n",
       "4  0.114564  0.067555  0.128920 -1  1"
      ]
     },
     "execution_count": 3,
     "metadata": {},
     "output_type": "execute_result"
    }
   ],
   "source": [
    "df_classification.head()"
   ]
  },
  {
   "cell_type": "code",
   "execution_count": 4,
   "id": "5b10e254",
   "metadata": {},
   "outputs": [
    {
     "data": {
      "text/html": [
       "<div>\n",
       "<style scoped>\n",
       "    .dataframe tbody tr th:only-of-type {\n",
       "        vertical-align: middle;\n",
       "    }\n",
       "\n",
       "    .dataframe tbody tr th {\n",
       "        vertical-align: top;\n",
       "    }\n",
       "\n",
       "    .dataframe thead th {\n",
       "        text-align: right;\n",
       "    }\n",
       "</style>\n",
       "<table border=\"1\" class=\"dataframe\">\n",
       "  <thead>\n",
       "    <tr style=\"text-align: right;\">\n",
       "      <th></th>\n",
       "      <th>0</th>\n",
       "      <th>1</th>\n",
       "      <th>2</th>\n",
       "      <th>3</th>\n",
       "    </tr>\n",
       "  </thead>\n",
       "  <tbody>\n",
       "    <tr>\n",
       "      <th>0</th>\n",
       "      <td>0.750072</td>\n",
       "      <td>0.977408</td>\n",
       "      <td>0.885658</td>\n",
       "      <td>-1</td>\n",
       "    </tr>\n",
       "    <tr>\n",
       "      <th>1</th>\n",
       "      <td>0.877914</td>\n",
       "      <td>0.019251</td>\n",
       "      <td>0.506711</td>\n",
       "      <td>1</td>\n",
       "    </tr>\n",
       "    <tr>\n",
       "      <th>2</th>\n",
       "      <td>0.777325</td>\n",
       "      <td>0.994066</td>\n",
       "      <td>0.822244</td>\n",
       "      <td>-1</td>\n",
       "    </tr>\n",
       "    <tr>\n",
       "      <th>3</th>\n",
       "      <td>0.181158</td>\n",
       "      <td>0.460749</td>\n",
       "      <td>0.525477</td>\n",
       "      <td>-1</td>\n",
       "    </tr>\n",
       "    <tr>\n",
       "      <th>4</th>\n",
       "      <td>0.114564</td>\n",
       "      <td>0.067555</td>\n",
       "      <td>0.128920</td>\n",
       "      <td>-1</td>\n",
       "    </tr>\n",
       "  </tbody>\n",
       "</table>\n",
       "</div>"
      ],
      "text/plain": [
       "          0         1         2  3\n",
       "0  0.750072  0.977408  0.885658 -1\n",
       "1  0.877914  0.019251  0.506711  1\n",
       "2  0.777325  0.994066  0.822244 -1\n",
       "3  0.181158  0.460749  0.525477 -1\n",
       "4  0.114564  0.067555  0.128920 -1"
      ]
     },
     "execution_count": 4,
     "metadata": {},
     "output_type": "execute_result"
    }
   ],
   "source": [
    "first_4 = df_classification.drop(columns = [4])\n",
    "first_4.head()"
   ]
  },
  {
   "cell_type": "code",
   "execution_count": 5,
   "id": "9e76a015",
   "metadata": {},
   "outputs": [
    {
     "data": {
      "text/html": [
       "<div>\n",
       "<style scoped>\n",
       "    .dataframe tbody tr th:only-of-type {\n",
       "        vertical-align: middle;\n",
       "    }\n",
       "\n",
       "    .dataframe tbody tr th {\n",
       "        vertical-align: top;\n",
       "    }\n",
       "\n",
       "    .dataframe thead th {\n",
       "        text-align: right;\n",
       "    }\n",
       "</style>\n",
       "<table border=\"1\" class=\"dataframe\">\n",
       "  <thead>\n",
       "    <tr style=\"text-align: right;\">\n",
       "      <th></th>\n",
       "      <th>0</th>\n",
       "      <th>1</th>\n",
       "      <th>2</th>\n",
       "      <th>4</th>\n",
       "    </tr>\n",
       "  </thead>\n",
       "  <tbody>\n",
       "    <tr>\n",
       "      <th>0</th>\n",
       "      <td>0.750072</td>\n",
       "      <td>0.977408</td>\n",
       "      <td>0.885658</td>\n",
       "      <td>1</td>\n",
       "    </tr>\n",
       "    <tr>\n",
       "      <th>1</th>\n",
       "      <td>0.877914</td>\n",
       "      <td>0.019251</td>\n",
       "      <td>0.506711</td>\n",
       "      <td>-1</td>\n",
       "    </tr>\n",
       "    <tr>\n",
       "      <th>2</th>\n",
       "      <td>0.777325</td>\n",
       "      <td>0.994066</td>\n",
       "      <td>0.822244</td>\n",
       "      <td>1</td>\n",
       "    </tr>\n",
       "    <tr>\n",
       "      <th>3</th>\n",
       "      <td>0.181158</td>\n",
       "      <td>0.460749</td>\n",
       "      <td>0.525477</td>\n",
       "      <td>1</td>\n",
       "    </tr>\n",
       "    <tr>\n",
       "      <th>4</th>\n",
       "      <td>0.114564</td>\n",
       "      <td>0.067555</td>\n",
       "      <td>0.128920</td>\n",
       "      <td>1</td>\n",
       "    </tr>\n",
       "  </tbody>\n",
       "</table>\n",
       "</div>"
      ],
      "text/plain": [
       "          0         1         2  4\n",
       "0  0.750072  0.977408  0.885658  1\n",
       "1  0.877914  0.019251  0.506711 -1\n",
       "2  0.777325  0.994066  0.822244  1\n",
       "3  0.181158  0.460749  0.525477  1\n",
       "4  0.114564  0.067555  0.128920  1"
      ]
     },
     "execution_count": 5,
     "metadata": {},
     "output_type": "execute_result"
    }
   ],
   "source": [
    "last_col = df_classification.drop(columns = [3])\n",
    "last_col.head()"
   ]
  },
  {
   "cell_type": "code",
   "execution_count": 6,
   "id": "e051c3c5",
   "metadata": {},
   "outputs": [],
   "source": [
    "x_perceptron = np.array(first_4.drop(columns = [3]))\n",
    "y_perceptron = np.array(first_4[3])"
   ]
  },
  {
   "cell_type": "code",
   "execution_count": 7,
   "id": "12888605",
   "metadata": {},
   "outputs": [],
   "source": [
    "x_pocket = np.array(last_col.drop(columns = [4]))\n",
    "y_pocket = np.array(last_col[4])"
   ]
  },
  {
   "cell_type": "markdown",
   "id": "8fce8d31-f384-4661-b975-5f1a2a2e72ba",
   "metadata": {},
   "source": [
    "## PERCEPTRON LEARNING ALGORITHM"
   ]
  },
  {
   "cell_type": "code",
   "execution_count": 8,
   "id": "6f7397d3",
   "metadata": {},
   "outputs": [],
   "source": [
    "x_percep_train, x_percep_test, y_percep_train, y_percep_test = train_test_split(x_perceptron, y_perceptron, test_size = 0.2, random_state = 42)"
   ]
  },
  {
   "cell_type": "code",
   "execution_count": 9,
   "id": "c04060b7",
   "metadata": {},
   "outputs": [],
   "source": [
    "class Perceptron:\n",
    "    def __init__(self):\n",
    "        self.W = None\n",
    "        self.b = None\n",
    "    \n",
    "    def predict_single(self, x):\n",
    "        if np.dot(self.W, x) + self.b >= 0:\n",
    "            return 1\n",
    "        else:\n",
    "            return -1\n",
    "    \n",
    "    def predict(self, X):\n",
    "        preds = np.dot(X, self.W) + self.b\n",
    "        for idx, item in enumerate(preds):\n",
    "            if item < 0:\n",
    "                preds[idx] = -1\n",
    "            else:\n",
    "                preds[idx] = 1\n",
    "        return preds\n",
    "    \n",
    "    def fit(self, X, y, epochs = 100, lr = 0.1):\n",
    "        self.W = np.random.uniform(low = -1, high = 1, size = X.shape[1])\n",
    "        self.b = np.random.uniform(-1, 1)\n",
    "        accuracy = []\n",
    "        best_W = None\n",
    "        best_b = None\n",
    "        max_accuracy = 0\n",
    "        for i in range(epochs):\n",
    "            for x, y_targ in zip(X, y):\n",
    "                y_pred = self.predict_single(x)\n",
    "                if y_targ == 1 and y_pred == -1:\n",
    "                    self.W = self.W + lr * x\n",
    "                    self.b = self.b + lr\n",
    "                elif y_targ == -1 and y_pred == 1:\n",
    "                    self.W = self.W - lr * x\n",
    "                    self.b = self.b - lr\n",
    "            acc = accuracy_score(y, self.predict(X))\n",
    "            accuracy.append(acc)\n",
    "            if acc > max_accuracy:\n",
    "                best_W = self.W\n",
    "                best_b = self.b\n",
    "                max_accuracy = acc\n",
    "#             if acc >= 0.999:\n",
    "#                 break\n",
    "        \n",
    "        self.W = best_W\n",
    "        self.b = best_b\n",
    "        return self.W, self.b, accuracy, max_accuracy"
   ]
  },
  {
   "cell_type": "code",
   "execution_count": 10,
   "id": "c1ae33e9",
   "metadata": {},
   "outputs": [
    {
     "name": "stdout",
     "output_type": "stream",
     "text": [
      "Weights:  [ 1.54501924 -1.23736401 -0.91809144]\n",
      "Bias:  -0.007045563364800805\n",
      "Accuracy:  1.0\n"
     ]
    }
   ],
   "source": [
    "perceptron = Perceptron()\n",
    "weights, bias, accuracy, max_accuracy = perceptron.fit(x_percep_train, y_percep_train, 1000, 0.03)\n",
    "print(\"Weights: \", weights)\n",
    "print(\"Bias: \", bias)\n",
    "print(\"Accuracy: \", max_accuracy)"
   ]
  },
  {
   "cell_type": "code",
   "execution_count": 11,
   "id": "b53e693a",
   "metadata": {},
   "outputs": [],
   "source": [
    "epochs = [i for i in range(len(accuracy))]"
   ]
  },
  {
   "cell_type": "code",
   "execution_count": 12,
   "id": "c1afbf11",
   "metadata": {},
   "outputs": [
    {
     "data": {
      "text/plain": [
       "Text(0, 0.5, 'Accuracy')"
      ]
     },
     "execution_count": 12,
     "metadata": {},
     "output_type": "execute_result"
    },
    {
     "data": {
      "image/png": "[encoded data removed]",
      "text/plain": [
       "<Figure size 432x288 with 1 Axes>"
      ]
     },
     "metadata": {
      "needs_background": "light"
     },
     "output_type": "display_data"
    }
   ],
   "source": [
    "plt.plot(epochs, accuracy, '-')\n",
    "plt.xlabel(\"Iteration\")\n",
    "plt.ylabel(\"Accuracy\")"
   ]
  },
  {
   "cell_type": "code",
   "execution_count": 13,
   "id": "52ff12c1",
   "metadata": {},
   "outputs": [],
   "source": [
    "test_preds = perceptron.predict(x_percep_test)"
   ]
  },
  {
   "cell_type": "code",
   "execution_count": 14,
   "id": "b5d986f1",
   "metadata": {},
   "outputs": [
    {
     "name": "stdout",
     "output_type": "stream",
     "text": [
      "Test Accuracy:  0.995\n"
     ]
    }
   ],
   "source": [
    "print(\"Test Accuracy: \", accuracy_score(y_percep_test, test_preds))"
   ]
  },
  {
   "cell_type": "markdown",
   "id": "ddf07930-ede3-4c47-8cfe-7bf0588dcba2",
   "metadata": {},
   "source": [
    "## POCKET ALGORITHM"
   ]
  },
  {
   "cell_type": "code",
   "execution_count": 33,
   "id": "5d897e3d",
   "metadata": {},
   "outputs": [],
   "source": [
    "def pocket(X, y, epochs, lr):\n",
    "    misclassifications = []\n",
    "    min_misclass = np.inf\n",
    "    weights = np.random.uniform(X.shape[1], size = X.shape[1])\n",
    "    best_weights = weights\n",
    "    max_accuracy = 0\n",
    "    while(epochs > 0):\n",
    "        misses = 0\n",
    "        for i in range(len(X)):\n",
    "            x = X[i]\n",
    "            y_targ = y[i]\n",
    "            y_pred = np.dot(weights, x)\n",
    "            if y_pred < 0 and y_targ == 1:\n",
    "                misses += 1\n",
    "                weights = weights + lr * x\n",
    "            elif y_pred >=0 and y_targ == -1:\n",
    "                misses += 1\n",
    "                weights = weights - lr * x\n",
    "        misclassifications.append(misses)\n",
    "        if misses < min_misclass:\n",
    "            best_weights = weights\n",
    "            min_misclass = misses\n",
    "            max_accuracy = (len(X) - misses) / len(X)\n",
    "        epochs -= 1\n",
    "    return weights, misclassifications, max_accuracy\n",
    "                "
   ]
  },
  {
   "cell_type": "code",
   "execution_count": 16,
   "id": "0604796d",
   "metadata": {},
   "outputs": [],
   "source": [
    "weights, misclasses, accuracy = pocket(x_pocket, y_pocket, 7000, 0.03)"
   ]
  },
  {
   "cell_type": "code",
   "execution_count": 17,
   "id": "531960e7",
   "metadata": {},
   "outputs": [
    {
     "name": "stdout",
     "output_type": "stream",
     "text": [
      "Weights:  [ 0.0028407   0.03197547 -0.0051001 ]\n",
      "Max Accuracy:  0.534\n"
     ]
    },
    {
     "data": {
      "text/plain": [
       "Text(0, 0.5, 'Misclassifications')"
      ]
     },
     "execution_count": 17,
     "metadata": {},
     "output_type": "execute_result"
    },
    {
     "data": {
      "image/png": "[encoded data removed]",
      "text/plain": [
       "<Figure size 432x288 with 1 Axes>"
      ]
     },
     "metadata": {
      "needs_background": "light"
     },
     "output_type": "display_data"
    }
   ],
   "source": [
    "print(\"Weights: \", weights)\n",
    "print(\"Max Accuracy: \", accuracy)\n",
    "epochs = [i for i in range(1, 7001)]\n",
    "plt.plot(epochs, misclasses)\n",
    "plt.xlabel(\"Iteration\")\n",
    "plt.ylabel(\"Misclassifications\")"
   ]
  },
  {
   "cell_type": "markdown",
   "id": "75211251-06a6-4862-852b-8b897e38b5eb",
   "metadata": {},
   "source": [
    "## LOGISTIC REGRESSION"
   ]
  },
  {
   "cell_type": "code",
   "execution_count": 18,
   "id": "cf83b1f1",
   "metadata": {},
   "outputs": [],
   "source": [
    "class Logistic:\n",
    "    \n",
    "    def __init__(self):\n",
    "        self.W = None\n",
    "        self.b = None\n",
    "    \n",
    "    def sigmoid(self, x):\n",
    "        return np.exp(x) / (1 + np.exp(x))\n",
    "\n",
    "    def predict(self, X):\n",
    "        return self.sigmoid(np.dot(X, self.W) + self.b)\n",
    "    \n",
    "    def accuracy(self, y_hat, y):\n",
    "        preds = y_hat >= 0.5\n",
    "        return accuracy_score(y, preds)\n",
    "    \n",
    "    def fit(self, X, y, lr, epochs):\n",
    "        self.W = np.random.uniform(-1, 1, size = X.shape[1])\n",
    "        self.b = np.random.uniform(-1, 1)\n",
    "        best_W = self.W\n",
    "        best_b = self.b\n",
    "        max_acc = 0\n",
    "        n = X.shape[0]\n",
    "        loss = []        \n",
    "        for i in range(epochs):\n",
    "            y_hat = self.predict(X)\n",
    "            acc = self.accuracy(y_hat, y)\n",
    "            if acc > max_acc:\n",
    "                max_acc = acc\n",
    "                best_W = self.W\n",
    "                best_b = self.b\n",
    "            loss.append(-np.mean(y * (np.log(y_hat)) - (1 - y) * np.log(1 - y_hat)))\n",
    "            dW = (1 / n) * (np.dot(X.T, (y_hat - y)))\n",
    "            db = (1 / n) * np.sum(y_hat - y)\n",
    "            self.W = self.W - lr * dW\n",
    "            self.b = self.b - lr * db\n",
    "            \n",
    "        self.W = best_W\n",
    "        self.b = best_b\n",
    "        \n",
    "        return self.W, self.b, loss, max_acc\n",
    "    "
   ]
  },
  {
   "cell_type": "code",
   "execution_count": 19,
   "id": "9aaab964",
   "metadata": {},
   "outputs": [],
   "source": [
    "x_logistic = x_pocket\n",
    "y_logistic = y_pocket"
   ]
  },
  {
   "cell_type": "code",
   "execution_count": 20,
   "id": "8f0f243e",
   "metadata": {},
   "outputs": [],
   "source": [
    "y_logistic = np.array([1 if x == 1 else 0 for x in y_logistic])"
   ]
  },
  {
   "cell_type": "code",
   "execution_count": 21,
   "id": "bca570d4",
   "metadata": {},
   "outputs": [],
   "source": [
    "x_logistic_train, x_logistic_test, y_logistic_train, y_logistic_test = train_test_split(x_logistic, y_logistic, test_size = 0.2, random_state = 42)"
   ]
  },
  {
   "cell_type": "code",
   "execution_count": 22,
   "id": "b7f66e2a",
   "metadata": {},
   "outputs": [],
   "source": [
    "logistic = Logistic()\n",
    "weights, bias, loss, acc = logistic.fit(x_logistic_train, y_logistic_train, 0.03, 7000)\n",
    "test_acc = logistic.accuracy(logistic.predict(x_logistic_test), y_logistic_test)"
   ]
  },
  {
   "cell_type": "code",
   "execution_count": 23,
   "id": "ee358642",
   "metadata": {},
   "outputs": [
    {
     "name": "stdout",
     "output_type": "stream",
     "text": [
      "Weights:  [-0.17342674  0.14037464  0.16766943]\n",
      "Bias:  -0.09250399492840805\n",
      "Train Accuracy:  0.52125\n",
      "Test Accuracy:  0.505\n"
     ]
    }
   ],
   "source": [
    "print(\"Weights: \", weights)\n",
    "print(\"Bias: \", bias)\n",
    "print(\"Train Accuracy: \", acc)\n",
    "print(\"Test Accuracy: \", test_acc)"
   ]
  },
  {
   "cell_type": "code",
   "execution_count": 24,
   "id": "e4314780",
   "metadata": {},
   "outputs": [
    {
     "data": {
      "text/plain": [
       "Text(0.5, 1.0, 'Iteration vs. Loss Plot')"
      ]
     },
     "execution_count": 24,
     "metadata": {},
     "output_type": "execute_result"
    },
    {
     "data": {
      "image/png": "[encoded data removed]",
      "text/plain": [
       "<Figure size 432x288 with 1 Axes>"
      ]
     },
     "metadata": {
      "needs_background": "light"
     },
     "output_type": "display_data"
    }
   ],
   "source": [
    "epochs = [i for i in range(1, 7001)]\n",
    "plt.plot(epochs, loss, '-')\n",
    "plt.xlabel(\"Iteration\")\n",
    "plt.ylabel(\"Loss\")\n",
    "plt.title(\"Iteration vs. Loss Plot\")"
   ]
  },
  {
   "cell_type": "markdown",
   "id": "017ac024-cc18-4b7a-abcb-cf52886989ce",
   "metadata": {},
   "source": [
    "## LINEAR REGRESSION"
   ]
  },
  {
   "cell_type": "code",
   "execution_count": 25,
   "id": "6c4070e4",
   "metadata": {},
   "outputs": [],
   "source": [
    "df_regression = pd.read_csv(\"linear-regression.txt\", header = None)"
   ]
  },
  {
   "cell_type": "code",
   "execution_count": 26,
   "id": "2eecd390",
   "metadata": {},
   "outputs": [
    {
     "data": {
      "text/html": [
       "<div>\n",
       "<style scoped>\n",
       "    .dataframe tbody tr th:only-of-type {\n",
       "        vertical-align: middle;\n",
       "    }\n",
       "\n",
       "    .dataframe tbody tr th {\n",
       "        vertical-align: top;\n",
       "    }\n",
       "\n",
       "    .dataframe thead th {\n",
       "        text-align: right;\n",
       "    }\n",
       "</style>\n",
       "<table border=\"1\" class=\"dataframe\">\n",
       "  <thead>\n",
       "    <tr style=\"text-align: right;\">\n",
       "      <th></th>\n",
       "      <th>0</th>\n",
       "      <th>1</th>\n",
       "      <th>2</th>\n",
       "    </tr>\n",
       "  </thead>\n",
       "  <tbody>\n",
       "    <tr>\n",
       "      <th>0</th>\n",
       "      <td>0.693781</td>\n",
       "      <td>0.697544</td>\n",
       "      <td>3.252290</td>\n",
       "    </tr>\n",
       "    <tr>\n",
       "      <th>1</th>\n",
       "      <td>0.693737</td>\n",
       "      <td>0.575576</td>\n",
       "      <td>2.898651</td>\n",
       "    </tr>\n",
       "    <tr>\n",
       "      <th>2</th>\n",
       "      <td>0.000576</td>\n",
       "      <td>0.458192</td>\n",
       "      <td>1.986979</td>\n",
       "    </tr>\n",
       "    <tr>\n",
       "      <th>3</th>\n",
       "      <td>0.194953</td>\n",
       "      <td>0.470199</td>\n",
       "      <td>2.272075</td>\n",
       "    </tr>\n",
       "    <tr>\n",
       "      <th>4</th>\n",
       "      <td>0.031775</td>\n",
       "      <td>0.026546</td>\n",
       "      <td>0.231178</td>\n",
       "    </tr>\n",
       "  </tbody>\n",
       "</table>\n",
       "</div>"
      ],
      "text/plain": [
       "          0         1         2\n",
       "0  0.693781  0.697544  3.252290\n",
       "1  0.693737  0.575576  2.898651\n",
       "2  0.000576  0.458192  1.986979\n",
       "3  0.194953  0.470199  2.272075\n",
       "4  0.031775  0.026546  0.231178"
      ]
     },
     "execution_count": 26,
     "metadata": {},
     "output_type": "execute_result"
    }
   ],
   "source": [
    "df_regression.head()"
   ]
  },
  {
   "cell_type": "code",
   "execution_count": 27,
   "id": "818588a7",
   "metadata": {},
   "outputs": [],
   "source": [
    "reg_X = df_regression.drop(columns = [2])\n",
    "reg_y = df_regression[2]"
   ]
  },
  {
   "cell_type": "code",
   "execution_count": 28,
   "id": "cf8c24db",
   "metadata": {},
   "outputs": [],
   "source": [
    "reg_X_train, reg_X_test, reg_y_train, reg_y_test = train_test_split(reg_X, reg_y, test_size = 0.2, random_state = 42)"
   ]
  },
  {
   "cell_type": "code",
   "execution_count": 29,
   "id": "c681481c",
   "metadata": {},
   "outputs": [],
   "source": [
    "class LinearRegression:\n",
    "    \n",
    "    def __init__(self):\n",
    "        self.W = None\n",
    "        self.b = None\n",
    "        \n",
    "    def cost(self, X, y):\n",
    "        return np.sum((((np.dot(X, self.W) + self.b) - y) ** 2) / (2 * len(y)))\n",
    "    \n",
    "    def predict(self, X):\n",
    "        return np.dot(X, self.W) + self.b\n",
    "    \n",
    "    def fit(self, X, y, lr, epochs):\n",
    "        costs = []\n",
    "        min_cost = np.inf\n",
    "        self.W = np.random.uniform(-1, 1, size = X.shape[1])\n",
    "        self.b = np.random.uniform(-1, 1)\n",
    "        best_W = self.W\n",
    "        best_b = self.b\n",
    "        best_r2 = None\n",
    "        \n",
    "        for i in range(epochs):\n",
    "            y_pred = self.predict(X)\n",
    "            loss = y_pred - y\n",
    "            curr_cost = self.cost(X, y)\n",
    "            costs.append(curr_cost)\n",
    "            if curr_cost < min_cost:\n",
    "                min_loss = loss\n",
    "                best_W = self.W\n",
    "                best_b = self.b\n",
    "                best_r2 = self.r2_Score(y, y_pred)\n",
    "\n",
    "            dW = np.dot(X.T, loss) / len(y)\n",
    "            db = np.sum(loss) / len(y)\n",
    "            self.W = self.W - lr * dW\n",
    "            self.b = self.b - lr * db\n",
    "        \n",
    "        self.W = best_W\n",
    "        self.b = best_b\n",
    "        return self.W, self.b, costs, best_r2\n",
    "        \n",
    "    def r2_Score(self, y_targ, y_pred):\n",
    "        rss = np.sum((y_targ - y_pred) ** 2)\n",
    "        tss = np.sum((y_targ - y_targ.mean()) ** 2)\n",
    "        \n",
    "        return 1 - (rss / tss)\n",
    "            "
   ]
  },
  {
   "cell_type": "code",
   "execution_count": 30,
   "id": "32797196",
   "metadata": {},
   "outputs": [],
   "source": [
    "linear_reg = LinearRegression()\n",
    "weights, bias, costs, r2 = linear_reg.fit(reg_X_train, reg_y_train, 0.03, 7000)\n",
    "test_r2 = linear_reg.r2_Score(reg_y_test, linear_reg.predict(reg_X_test))"
   ]
  },
  {
   "cell_type": "code",
   "execution_count": 31,
   "id": "d2aa7438",
   "metadata": {},
   "outputs": [
    {
     "name": "stdout",
     "output_type": "stream",
     "text": [
      "Weights:  [1.08756392 3.97893168]\n",
      "Bias:  0.020247016405602378\n",
      "Train R2 Score:  0.9719021056868362\n",
      "Test R2 Score:  0.9735255728080507\n"
     ]
    }
   ],
   "source": [
    "print(\"Weights: \", weights)\n",
    "print(\"Bias: \", bias)\n",
    "print(\"Train R2 Score: \", r2)\n",
    "print(\"Test R2 Score: \", test_r2)"
   ]
  },
  {
   "cell_type": "code",
   "execution_count": 32,
   "id": "a24962d9",
   "metadata": {},
   "outputs": [
    {
     "data": {
      "text/plain": [
       "Text(0.5, 1.0, 'Iteration vs. Cost Plot')"
      ]
     },
     "execution_count": 32,
     "metadata": {},
     "output_type": "execute_result"
    },
    {
     "data": {
      "image/png": "[encoded data removed]",
      "text/plain": [
       "<Figure size 432x288 with 1 Axes>"
      ]
     },
     "metadata": {
      "needs_background": "light"
     },
     "output_type": "display_data"
    }
   ],
   "source": [
    "epochs = [i for i in range(1, 7001)]\n",
    "plt.plot(epochs, costs, '-')\n",
    "plt.xlabel(\"Iteration\")\n",
    "plt.ylabel(\"Cost\")\n",
    "plt.title(\"Iteration vs. Cost Plot\")"
   ]
  },
  {
   "cell_type": "code",
   "execution_count": null,
   "id": "5af1f203",
   "metadata": {},
   "outputs": [],
   "source": []
  },
  {
   "cell_type": "code",
   "execution_count": null,
   "id": "6947bcca-7f13-4a44-bead-76007de2bbbf",
   "metadata": {},
   "outputs": [],
   "source": []
  }
 ],
 "metadata": {
  "kernelspec": {
   "display_name": "Python 3",
   "language": "python",
   "name": "python3"
  },
  "language_info": {
   "codemirror_mode": {
    "name": "ipython",
    "version": 3
   },
   "file_extension": ".py",
   "mimetype": "text/x-python",
   "name": "python",
   "nbconvert_exporter": "python",
   "pygments_lexer": "ipython3",
   "version": "3.8.8"
  }
 },
 "nbformat": 4,
 "nbformat_minor": 5
}
