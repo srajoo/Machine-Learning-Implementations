{
 "cells": [
  {
   "cell_type": "code",
   "execution_count": 1,
   "id": "4a490f46",
   "metadata": {},
   "outputs": [],
   "source": [
    "import numpy as np\n",
    "import pandas as pd\n",
    "import math\n",
    "from sklearn.preprocessing import StandardScaler"
   ]
  },
  {
   "cell_type": "code",
   "execution_count": 2,
   "id": "357297db",
   "metadata": {},
   "outputs": [],
   "source": [
    "x = []\n",
    "y = []\n",
    "with open(\"linsep.txt\", \"r\") as fp:\n",
    "    lines = fp.readlines()\n",
    "    for line in lines:\n",
    "        x1, x2, label = line.split(\",\")\n",
    "        x.append([x1, x2])\n",
    "        y.append(int(label))\n",
    "x = np.array(x)\n",
    "y = np.array(y)"
   ]
  },
  {
   "cell_type": "code",
   "execution_count": 3,
   "id": "55eda599",
   "metadata": {},
   "outputs": [],
   "source": [
    "labels = np.array([1 if x == 1 else 0 for x in y])"
   ]
  },
  {
   "cell_type": "code",
   "execution_count": 4,
   "id": "df009a80",
   "metadata": {},
   "outputs": [],
   "source": [
    "scaler = StandardScaler()\n",
    "x = scaler.fit_transform(x)"
   ]
  },
  {
   "cell_type": "code",
   "execution_count": 5,
   "id": "fc7f239d",
   "metadata": {},
   "outputs": [
    {
     "data": {
      "text/plain": [
       "numpy.int32"
      ]
     },
     "execution_count": 5,
     "metadata": {},
     "output_type": "execute_result"
    }
   ],
   "source": [
    "type(y[0])"
   ]
  },
  {
   "cell_type": "code",
   "execution_count": 6,
   "id": "eaf5cda9",
   "metadata": {},
   "outputs": [
    {
     "name": "stdout",
     "output_type": "stream",
     "text": [
      "w =  [ 2.10657525 -1.06619998]\n",
      "b =  1.993113802127188\n"
     ]
    }
   ],
   "source": [
    "from cvxopt import matrix as cvxopt_matrix\n",
    "from cvxopt import solvers as cvxopt_solvers\n",
    "\n",
    "#Initializing values and computing H. Note the 1. to force to float type\n",
    "m,n = x.shape\n",
    "y = y.reshape(-1,1) * 1.\n",
    "X_dash = y * x\n",
    "H = np.dot(X_dash , X_dash.T) * 1.\n",
    "\n",
    "#Converting into cvxopt format\n",
    "P = cvxopt_matrix(H)\n",
    "q = cvxopt_matrix(-np.ones((m, 1)))\n",
    "G = cvxopt_matrix(-np.eye(m))\n",
    "h = cvxopt_matrix(np.zeros(m))\n",
    "A = cvxopt_matrix(y.reshape(1, -1))\n",
    "b = cvxopt_matrix(np.zeros(1))\n",
    "\n",
    "#Setting solver parameters (change default to decrease tolerance) \n",
    "cvxopt_solvers.options['show_progress'] = False\n",
    "cvxopt_solvers.options['abstol'] = 1e-10\n",
    "cvxopt_solvers.options['reltol'] = 1e-10\n",
    "cvxopt_solvers.options['feastol'] = 1e-10\n",
    "\n",
    "#Run solver\n",
    "sol = cvxopt_solvers.qp(P, q, G, h, A, b)\n",
    "alphas = np.array(sol['x'])\n",
    "\n",
    "#w parameter in vectorized form\n",
    "w = ((y * alphas).T @ x).reshape(-1,1).flatten()\n",
    "\n",
    "#Selecting the set of indices S corresponding to non zero parameters\n",
    "S = (alphas > 1e-4).flatten()\n",
    "\n",
    "#Computing b\n",
    "b = y[S] - np.dot(x[S], w)\n",
    "b = b[0]\n",
    "#Display results\n",
    "# print('Alphas = ',alphas[alphas > 1e-4])\n",
    "print('w = ', w)\n",
    "print('b = ', b[0])"
   ]
  },
  {
   "cell_type": "code",
   "execution_count": 7,
   "id": "d5053ebc",
   "metadata": {},
   "outputs": [
    {
     "name": "stdout",
     "output_type": "stream",
     "text": [
      "Slope:  1.9757787449100916\n",
      "Intercept:  1.993113802127188\n",
      "Slope-Intercept Equation of line (hyper-plane in our case): y = m * x + c\n",
      "Equation of Plane: y =  1.9757787449100916 * x +  1.993113802127188\n",
      "General Equation of line (hyper-plane in our case): Ax + By + c = 0\n",
      "Equation of Plane:  1.9757787449100916 * x + -1 * y +  1.993113802127188\n"
     ]
    }
   ],
   "source": [
    "slope = -w[0]/w[1]\n",
    "intercept = b[0]\n",
    "print(\"Slope: \", slope)\n",
    "print(\"Intercept: \", intercept)\n",
    "print(\"Slope-Intercept Equation of line (hyper-plane in our case): y = m * x + c\\nEquation of Plane: y = \", slope, \"* x + \", intercept)\n",
    "print(\"General Equation of line (hyper-plane in our case): Ax + By + c = 0\\nEquation of Plane: \", slope, \"* x + -1 * y + \", intercept, )"
   ]
  },
  {
   "cell_type": "code",
   "execution_count": 8,
   "id": "360608c1",
   "metadata": {},
   "outputs": [],
   "source": [
    "# svm = HardMarginSVM()\n",
    "# svm.fit(x,y)\n",
    "# slope = -svm.w[0]/svm.w[1]\n",
    "# intercept = svm.b\n",
    "# print(\"Slope: \", slope)\n",
    "# print(\"Intercept: \", intercept)\n",
    "# print(\"Slope-Intercept Equation of line (hyper-plane in our case): y = m * x + c\\nEquation of Plane: y = \", slope[0], \"* x + \", intercept)\n",
    "# print(\"General Equation of line (hyper-plane in our case): Ax + By + c = 0\\nEquation of Plane: \", slope[0], \"* x + -1 * y + \", intercept, )"
   ]
  },
  {
   "cell_type": "code",
   "execution_count": 9,
   "id": "327aaea0",
   "metadata": {},
   "outputs": [],
   "source": [
    "def shortest_distance(x1, y1, a, b, c): \n",
    "    d = abs((a * x1 + b * y1 + c)) / (math.sqrt(a * a + b * b))\n",
    "    return d"
   ]
  },
  {
   "cell_type": "code",
   "execution_count": 10,
   "id": "0edc486f",
   "metadata": {},
   "outputs": [
    {
     "name": "stdout",
     "output_type": "stream",
     "text": [
      "Support Vectors:  [[-1.06434095 -1.17145051]\n",
      " [-1.85292051 -0.85368853]]\n"
     ]
    }
   ],
   "source": [
    "support_vectors_pos = []\n",
    "support_vectors_neg = []\n",
    "pos_dists = []\n",
    "neg_dists = []\n",
    "a = slope\n",
    "b = -1\n",
    "c = intercept\n",
    "min_dist_pos = np.inf\n",
    "min_dist_neg = np.inf \n",
    "for idx, point in enumerate(x):\n",
    "    x1 = point[0]\n",
    "    x2 = point[1]\n",
    "    dist = shortest_distance(x1, x2, a, b, c)\n",
    "    if y[idx] == 1:\n",
    "        pos_dists.append(dist)\n",
    "        if dist <= min_dist_pos:\n",
    "            if dist < min_dist_pos:\n",
    "                support_vectors_pos = [point]\n",
    "                min_dist_pos = dist\n",
    "            else:\n",
    "                support_vectors_pos.append(point)\n",
    "    else:\n",
    "        neg_dists.append(dist)\n",
    "        if dist <= min_dist_neg:\n",
    "            if dist < min_dist_neg:\n",
    "                support_vectors_neg = [point]\n",
    "                min_dist_neg = dist\n",
    "            else:\n",
    "                support_vectors_neg.append(point)\n",
    "support_vectors = support_vectors_pos + support_vectors_neg\n",
    "support_vectors = np.array(support_vectors)\n",
    "print(\"Support Vectors: \", support_vectors)"
   ]
  },
  {
   "cell_type": "code",
   "execution_count": 11,
   "id": "bf99d184",
   "metadata": {},
   "outputs": [
    {
     "data": {
      "text/plain": [
       "<matplotlib.collections.PathCollection at 0x1d78a52ba30>"
      ]
     },
     "execution_count": 11,
     "metadata": {},
     "output_type": "execute_result"
    },
    {
     "data": {
      "image/png": "[encoded data removed]",
      "text/plain": [
       "<Figure size 432x288 with 1 Axes>"
      ]
     },
     "metadata": {
      "needs_background": "light"
     },
     "output_type": "display_data"
    }
   ],
   "source": [
    "import matplotlib.pyplot as plt\n",
    "colormap = np.array(['r', 'b'])\n",
    "axes = plt.gca()\n",
    "x_vals = np.array(list(np.arange(-2.0, 1.5, 0.01)))\n",
    "y_vals = intercept + slope * x_vals\n",
    "plt.plot(x_vals, y_vals, '-', c = 'black')\n",
    "plt.scatter(x[:,0], x[:,1], c = colormap[labels])\n",
    "plt.scatter(support_vectors[:, 0], support_vectors[:, 1], c = 'green', s = 100)"
   ]
  },
  {
   "cell_type": "code",
   "execution_count": 12,
   "id": "daa70c47",
   "metadata": {},
   "outputs": [],
   "source": [
    "x_non = []\n",
    "y_non = []\n",
    "with open(\"nonlinsep.txt\", \"r\") as fp:\n",
    "    lines = fp.readlines()\n",
    "    for line in lines:\n",
    "        x1, x2, label = line.split(\",\")\n",
    "        x_non.append([x1, x2])\n",
    "        y_non.append(int(label))\n",
    "x_non = np.array(x_non)\n",
    "y_non = np.array(y_non)"
   ]
  },
  {
   "cell_type": "code",
   "execution_count": 13,
   "id": "04f7663e",
   "metadata": {},
   "outputs": [],
   "source": [
    "scaler_non = StandardScaler()\n",
    "x_non = scaler_non.fit_transform(x_non)"
   ]
  },
  {
   "cell_type": "code",
   "execution_count": 14,
   "id": "3982a204",
   "metadata": {},
   "outputs": [],
   "source": [
    "labels_non = np.array([1 if x == 1 else 0 for x in y_non])"
   ]
  },
  {
   "cell_type": "code",
   "execution_count": 15,
   "id": "edac6030",
   "metadata": {},
   "outputs": [
    {
     "data": {
      "text/plain": [
       "<matplotlib.collections.PathCollection at 0x1d78a64a6d0>"
      ]
     },
     "execution_count": 15,
     "metadata": {},
     "output_type": "execute_result"
    },
    {
     "data": {
      "image/png": "[encoded data removed]",
      "text/plain": [
       "<Figure size 432x288 with 1 Axes>"
      ]
     },
     "metadata": {
      "needs_background": "light"
     },
     "output_type": "display_data"
    }
   ],
   "source": [
    "plt.close()\n",
    "plt.scatter(x_non[:,0], x_non[:,1], c = colormap[labels_non])"
   ]
  },
  {
   "cell_type": "code",
   "execution_count": 16,
   "id": "51989ef3",
   "metadata": {},
   "outputs": [],
   "source": [
    "import cvxopt\n",
    "\n",
    "def polynomial(x, z, p=5):\n",
    "    return (1 + np.dot(x, z.T)) ** p\n",
    "\n",
    "class SVM:\n",
    "    def __init__(self, kernel=polynomial, C=1):\n",
    "        self.kernel = kernel\n",
    "        self.C = C\n",
    "\n",
    "    def fit(self, X, y):\n",
    "        self.y = y\n",
    "        self.X = X\n",
    "        m, n = X.shape\n",
    "\n",
    "        # Calculate Kernel\n",
    "        self.K = np.zeros((m, m))\n",
    "        for i in range(m):\n",
    "            self.K[i, :] = self.kernel(X[i, np.newaxis], self.X)\n",
    "\n",
    "        # Solve with cvxopt final QP needs to be reformulated\n",
    "        # to match the input form for cvxopt.solvers.qp\n",
    "        P = cvxopt.matrix(np.outer(y, y) * self.K)\n",
    "        q = cvxopt.matrix(-np.ones((m, 1)))\n",
    "        G = cvxopt.matrix(np.vstack((np.eye(m) * -1, np.eye(m))))\n",
    "        h = cvxopt.matrix(np.hstack((np.zeros(m), np.ones(m) * self.C)))\n",
    "        A = cvxopt.matrix(y, (1, m), \"d\")\n",
    "        b = cvxopt.matrix(np.zeros(1))\n",
    "        cvxopt.solvers.options[\"show_progress\"] = False\n",
    "        sol = cvxopt.solvers.qp(P, q, G, h, A, b)\n",
    "        self.alphas = np.array(sol[\"x\"])\n",
    "        # print(self.alphas)\n",
    "\n",
    "    def predict(self, X):\n",
    "        y_predict = np.zeros((X.shape[0]))\n",
    "        sv = self.get_parameters(self.alphas)\n",
    "\n",
    "        for i in range(X.shape[0]):\n",
    "            y_predict[i] = np.sum(\n",
    "                self.alphas[sv]\n",
    "                * self.y[sv, np.newaxis]\n",
    "                * self.kernel(X[i], self.X[sv])[:, np.newaxis]\n",
    "            )\n",
    "\n",
    "        return np.sign(y_predict + self.b)\n",
    "\n",
    "    def get_parameters(self, alphas):\n",
    "        threshold = 1e-5\n",
    "\n",
    "        sv = ((alphas > threshold) * (alphas < self.C)).flatten()\n",
    "        self.w = np.dot(self.X[sv].T, alphas[sv] * self.y[sv, np.newaxis])\n",
    "        self.b = np.mean(\n",
    "            self.y[sv, np.newaxis]\n",
    "            - self.alphas[sv] * self.y[sv, np.newaxis] * self.K[sv, sv][:, np.newaxis]\n",
    "        )\n",
    "        return sv"
   ]
  },
  {
   "cell_type": "code",
   "execution_count": 17,
   "id": "25c4e90c",
   "metadata": {},
   "outputs": [],
   "source": [
    "svm = SVM(kernel=polynomial)\n",
    "svm.fit(x_non, y_non)\n",
    "sv = svm.get_parameters(svm.alphas)"
   ]
  },
  {
   "cell_type": "code",
   "execution_count": 21,
   "id": "03802408",
   "metadata": {},
   "outputs": [
    {
     "name": "stdout",
     "output_type": "stream",
     "text": [
      "w =  [[-0.04045736]\n",
      " [-0.22288251]]\n",
      "b =  -3.302871325291265\n"
     ]
    }
   ],
   "source": [
    "print(\"w = \", svm.w)\n",
    "print(\"b = \", svm.b)"
   ]
  },
  {
   "cell_type": "code",
   "execution_count": 18,
   "id": "42d92169",
   "metadata": {},
   "outputs": [
    {
     "name": "stdout",
     "output_type": "stream",
     "text": [
      "Support Vectors:  [[-0.86418555  0.10399898]\n",
      " [-0.74696768  0.37436577]\n",
      " [ 0.26211456  1.34821547]\n",
      " [ 0.23463737 -0.76037688]\n",
      " [ 0.94034625  0.58562646]\n",
      " [-0.68575217  0.13641437]\n",
      " [-0.67983439  0.40074791]\n",
      " [ 0.13836617 -0.62470348]\n",
      " [ 0.9591535   0.15514729]\n",
      " [ 0.48287282  0.97976922]]\n"
     ]
    }
   ],
   "source": [
    "support_vectors = []\n",
    "for idx, item in enumerate(sv):\n",
    "    if item == True:\n",
    "        support_vectors.append(x_non[idx])\n",
    "support_vectors = np.array(support_vectors)\n",
    "print(\"Support Vectors: \", support_vectors)"
   ]
  },
  {
   "cell_type": "code",
   "execution_count": 19,
   "id": "efa94f5e",
   "metadata": {},
   "outputs": [
    {
     "name": "stdout",
     "output_type": "stream",
     "text": [
      "Slope:  [-0.18151879]\n",
      "Intercept:  -3.302871325291265\n",
      "Slope-Intercept Equation of line (hyper-plane in our case): y = m * x + c\n",
      "Equation of Plane: y =  -0.18151878627296889 * x +  -3.302871325291265\n",
      "General Equation of line (hyper-plane in our case): Ax + By + c = 0\n",
      "Equation of Plane:  -0.18151878627296889 * x + -1 * y +  -3.302871325291265 = 0\n",
      "A =  -0.18151878627296889 , B =  -1 , c =  -3.302871325291265\n"
     ]
    }
   ],
   "source": [
    "slope = -svm.w[0]/svm.w[1]\n",
    "intercept = svm.b\n",
    "print(\"Slope: \", slope)\n",
    "print(\"Intercept: \", intercept)\n",
    "print(\"Slope-Intercept Equation of line (hyper-plane in our case): y = m * x + c\\nEquation of Plane: y = \", slope[0], \"* x + \", intercept)\n",
    "print(\"General Equation of line (hyper-plane in our case): Ax + By + c = 0\\nEquation of Plane: \", slope[0], \"* x + -1 * y + \", intercept, \"= 0\")\n",
    "print(\"A = \", slope[0], \", B = \", -1, \", c = \", intercept)"
   ]
  },
  {
   "cell_type": "code",
   "execution_count": 20,
   "id": "cd6c4729",
   "metadata": {},
   "outputs": [
    {
     "data": {
      "text/plain": [
       "<matplotlib.collections.PathCollection at 0x1d78a6c8730>"
      ]
     },
     "execution_count": 20,
     "metadata": {},
     "output_type": "execute_result"
    },
    {
     "data": {
      "image/png": "[encoded data removed]",
      "text/plain": [
       "<Figure size 432x288 with 1 Axes>"
      ]
     },
     "metadata": {
      "needs_background": "light"
     },
     "output_type": "display_data"
    }
   ],
   "source": [
    "plt.close()\n",
    "plt.scatter(x_non[:,0], x_non[:,1], c = colormap[labels_non])\n",
    "plt.scatter(support_vectors[:, 0], support_vectors[:, 1], c = 'green', s = 100)"
   ]
  },
  {
   "cell_type": "code",
   "execution_count": null,
   "id": "6952ac99",
   "metadata": {},
   "outputs": [],
   "source": []
  }
 ],
 "metadata": {
  "kernelspec": {
   "display_name": "Python 3 (ipykernel)",
   "language": "python",
   "name": "python3"
  },
  "language_info": {
   "codemirror_mode": {
    "name": "ipython",
    "version": 3
   },
   "file_extension": ".py",
   "mimetype": "text/x-python",
   "name": "python",
   "nbconvert_exporter": "python",
   "pygments_lexer": "ipython3",
   "version": "3.9.7"
  }
 },
 "nbformat": 4,
 "nbformat_minor": 5
}
